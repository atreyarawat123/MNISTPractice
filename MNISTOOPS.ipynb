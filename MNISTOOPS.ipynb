{
 "cells": [
  {
   "cell_type": "code",
   "execution_count": 1,
   "id": "0a75afd5",
   "metadata": {},
   "outputs": [
    {
     "name": "stderr",
     "output_type": "stream",
     "text": [
      "2023-07-11 11:51:32.629742: I tensorflow/core/platform/cpu_feature_guard.cc:182] This TensorFlow binary is optimized to use available CPU instructions in performance-critical operations.\n",
      "To enable the following instructions: AVX2 FMA, in other operations, rebuild TensorFlow with the appropriate compiler flags.\n"
     ]
    },
    {
     "name": "stdout",
     "output_type": "stream",
     "text": [
      "Total number of images:  70000\n",
      "Count of images in each class:  {5: 6313, 0: 6903, 4: 6824, 1: 7877, 9: 6958, 2: 6990, 3: 7141, 6: 6876, 7: 7293, 8: 6825}\n",
      "Dimensions of images:  (28, 28)\n"
     ]
    }
   ],
   "source": [
    "from tensorflow.keras.datasets import mnist\n",
    "from collections import Counter\n",
    "import numpy as np\n",
    "\n",
    "#This line calls the mnist.load_data() function, which returns the MNIST dataset as a tuple: \n",
    "#the training images, training labels, testing images, and testing labels. \n",
    "(train_images, train_labels), (test_images, test_labels) = mnist.load_data()\n",
    "\n",
    "# Total number of images\n",
    "#calculates the total number of images in the dataset\n",
    "total_images = train_images.shape[0] + test_images.shape[0]\n",
    "print(\"Total number of images: \", total_images)\n",
    "\n",
    "#This line combines the training labels and testing labels into a single Numpy array. \n",
    "#The np.concatenate function takes a list of arrays and concatenates them along an existing axis.\n",
    "combined_labels = np.concatenate([train_labels, test_labels])\n",
    "\n",
    "#This line counts the number of occurrences of each \n",
    "#label in the combined labels array (i.e., the number of images in each class\n",
    "class_wise_counts = dict(Counter(combined_labels))\n",
    "print(\"Count of images in each class: \", class_wise_counts)\n",
    "\n",
    "# Dimensions of image\n",
    "image_dimensions = train_images[0].shape\n",
    "print(\"Dimensions of images: \", image_dimensions)\n"
   ]
  },
  {
   "cell_type": "code",
   "execution_count": 2,
   "id": "64d693fe",
   "metadata": {},
   "outputs": [
    {
     "name": "stdout",
     "output_type": "stream",
     "text": [
      "Total number of images:  70000\n",
      "Count of images in each class:  {5: 6313, 0: 6903, 4: 6824, 1: 7877, 9: 6958, 2: 6990, 3: 7141, 6: 6876, 7: 7293, 8: 6825}\n",
      "Dimensions of images:  (28, 28)\n"
     ]
    }
   ],
   "source": [
    "from tensorflow.keras.datasets import mnist\n",
    "from collections import Counter\n",
    "import numpy as np\n",
    "\n",
    "class MNISTData:\n",
    "    def __init__(self):\n",
    "        (self.train_images, self.train_labels), (self.test_images, self.test_labels) = mnist.load_data()\n",
    "        self.total_images = self.calculate_total_images()\n",
    "        self.combined_labels = self.combine_labels()\n",
    "        self.class_wise_counts = self.count_class_wise_images()\n",
    "        self.image_dimensions = self.get_image_dimensions()\n",
    "        \n",
    "    def calculate_total_images(self):\n",
    "        return self.train_images.shape[0] + self.test_images.shape[0]\n",
    "\n",
    "    def combine_labels(self):\n",
    "        return np.concatenate([self.train_labels, self.test_labels])\n",
    "\n",
    "    def count_class_wise_images(self):\n",
    "        return dict(Counter(self.combined_labels))\n",
    "        \n",
    "    def get_image_dimensions(self):\n",
    "        return self.train_images[0].shape\n",
    "    \n",
    "    def display_info(self):\n",
    "        print(\"Total number of images: \", self.total_images)\n",
    "        print(\"Count of images in each class: \", self.class_wise_counts)\n",
    "        print(\"Dimensions of images: \", self.image_dimensions)\n",
    "\n",
    "\n",
    "if __name__ == \"__main__\":\n",
    "    mnist_data = MNISTData()\n",
    "    mnist_data.display_info()\n"
   ]
  },
  {
   "cell_type": "code",
   "execution_count": null,
   "id": "39563c78",
   "metadata": {},
   "outputs": [],
   "source": []
  }
 ],
 "metadata": {
  "kernelspec": {
   "display_name": "Python 3 (ipykernel)",
   "language": "python",
   "name": "python3"
  },
  "language_info": {
   "codemirror_mode": {
    "name": "ipython",
    "version": 3
   },
   "file_extension": ".py",
   "mimetype": "text/x-python",
   "name": "python",
   "nbconvert_exporter": "python",
   "pygments_lexer": "ipython3",
   "version": "3.10.11"
  }
 },
 "nbformat": 4,
 "nbformat_minor": 5
}
